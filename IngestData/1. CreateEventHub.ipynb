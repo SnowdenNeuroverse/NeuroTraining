{
 "cells": [
  {
   "cell_type": "markdown",
   "metadata": {},
   "source": [
    "# Create an event hub\n",
    "Event Hubs are event ingestion endpoints capable of receiving and processing millions of events per second. Events can be sent to an event hub through a variety of mechanisms (Logic Apps/Flow Connectors, client libraries, http or AMQP). Events sent to an Event Hub can have a maximum size of 256 KB, larger events must be broken into chunks. Event Hubs belong to an event hub namespace (up to 10 hubs can be created per a namespace)."
   ]
  },
  {
   "cell_type": "markdown",
   "metadata": {},
   "source": [
    "### Import required libraries"
   ]
  },
  {
   "cell_type": "code",
   "execution_count": null,
   "metadata": {},
   "outputs": [],
   "source": [
    "from neuro_python.neuro_data import endpoint_manager as epm"
   ]
  },
  {
   "cell_type": "markdown",
   "metadata": {},
   "source": [
    "## Create an Event Hub Namespace"
   ]
  },
  {
   "cell_type": "markdown",
   "metadata": {},
   "source": [
    "### Check what namespaces already exist"
   ]
  },
  {
   "cell_type": "code",
   "execution_count": null,
   "metadata": {},
   "outputs": [],
   "source": [
    "epm.list_event_hub_namespaces()"
   ]
  },
  {
   "cell_type": "markdown",
   "metadata": {},
   "source": [
    "### Create a namespace if needed"
   ]
  },
  {
   "cell_type": "code",
   "execution_count": null,
   "metadata": {},
   "outputs": [],
   "source": [
    "event_hub_namespace_name = 'LeeEventHubNamespace'\n",
    "epm.create_event_hub_namespace(event_hub_namespace_name)"
   ]
  },
  {
   "cell_type": "markdown",
   "metadata": {},
   "source": [
    "### List any Event Hubs already created\n",
    "Choose either your newly created namespace or an existing one"
   ]
  },
  {
   "cell_type": "code",
   "execution_count": null,
   "metadata": {},
   "outputs": [],
   "source": [
    "event_hub_namespace_name = 'sarikaTestworkspace1'\n",
    "epm.list_event_hubs(event_hub_namespace_name)"
   ]
  },
  {
   "cell_type": "markdown",
   "metadata": {},
   "source": [
    "### Create a new event hub if needed"
   ]
  },
  {
   "cell_type": "code",
   "execution_count": null,
   "metadata": {},
   "outputs": [],
   "source": [
    "namespace_name='sarikaTestworkspace1'\n",
    "event_hub_name='Hub1'\n",
    "epm.create_event_hub(namespace_name,event_hub_name)"
   ]
  },
  {
   "cell_type": "markdown",
   "metadata": {},
   "source": [
    "### Get connection string for sending events to event hub"
   ]
  },
  {
   "cell_type": "code",
   "execution_count": null,
   "metadata": {},
   "outputs": [],
   "source": [
    "event_hub_namespace_name = 'sarikaTestworkspace1'\n",
    "event_hub_name='Hub1'\n",
    "endpoint = next(obj for obj in epm.list_event_hubs(event_hub_namespace_name) if obj['Name']==event_hub_name)\n",
    "primary_key = next(obj['PrimaryKey'] for obj in endpoint['SharedAccessKeys'] if obj['KeyName']=='EventHubSendKey')\n",
    "{'ConnectionString':\n",
    " 'Endpoint=sb://%s.servicebus.windows.net/;SharedAccessKeyName=EventHubSendKey;SharedAccessKey=%s;EntityPath=%s'%\n",
    " (endpoint['EventHubNamespace'],primary_key,endpoint['Name'])}"
   ]
  }
 ],
 "metadata": {
  "kernelspec": {
   "display_name": "Python 3",
   "language": "python",
   "name": "python3"
  },
  "language_info": {
   "codemirror_mode": {
    "name": "ipython",
    "version": 3
   },
   "file_extension": ".py",
   "mimetype": "text/x-python",
   "name": "python",
   "nbconvert_exporter": "python",
   "pygments_lexer": "ipython3",
   "version": "3.6.4"
  }
 },
 "nbformat": 4,
 "nbformat_minor": 2
}
