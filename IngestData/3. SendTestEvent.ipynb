{
 "cells": [
  {
   "cell_type": "markdown",
   "metadata": {},
   "source": [
    "# Send a test event to an event hub\n",
    "This will show how to send data to an event hub using a Neuroverse python library.This library has the following features:\n",
    "- Sending small JSON serialisable object\n",
    "- Sending data as references from an in memory bytes object\n",
    "- Sending data as references from a locally accessible file\n",
    "- Sending data as references from an Azure Blob\n",
    "- References can be any data format as long as they can be read by python.\n",
    "- References are automatically split into multiple messages if too large for one (We suggest preprocessing you references if larger than 400 MB to reduce their size)\n",
    "- The wrapper allows for data of different forms to be colocated in the same partition reducing costs for low frequency data\n",
    "- A helper has been written in pyspark to help read the landed data inside Neuroverse\n",
    "\n",
    "This code would generally be run outside of Neuroverse closely located to the source of the data."
   ]
  },
  {
   "cell_type": "markdown",
   "metadata": {},
   "source": [
    "### Install the require libraries"
   ]
  },
  {
   "cell_type": "code",
   "execution_count": null,
   "metadata": {},
   "outputs": [],
   "source": [
    "!pip install azure-eventhub==5.0.0 --upgrade\n",
    "!pip install azure-storage==0.36.0 --upgrade\n"
   ]
  },
  {
   "cell_type": "markdown",
   "metadata": {},
   "source": [
    "### Import required libraries"
   ]
  },
  {
   "cell_type": "code",
   "execution_count": null,
   "metadata": {},
   "outputs": [],
   "source": [
    "import uuid\n",
    "import json\n",
    "import pickle\n",
    "from neuro_python_clients.event_hub import chunked_sender as cs"
   ]
  },
  {
   "cell_type": "markdown",
   "metadata": {},
   "source": [
    "### chunked_sender\n",
    "The chunked_sender module has 2 import objects, a class called MessageDetails and a method called send_message that takes MessageDetails as a parameter."
   ]
  },
  {
   "cell_type": "markdown",
   "metadata": {},
   "source": [
    "### Construct and send message from in memory data"
   ]
  },
  {
   "cell_type": "code",
   "execution_count": null,
   "metadata": {},
   "outputs": [],
   "source": [
    "referenceData = {\"test\":1,\"test1\":2}\n",
    "\n",
    "interfaceName=\"testInterface1\"\n",
    "correlationId=str(uuid.uuid4())\n",
    "version=\"v0.1\"\n",
    "\n",
    "data={\"TestDetails\":\"InMemoryTest\"}\n",
    "connectionDetails=cs.InMemoryBytesConnectionDetails(bytes(json.dumps(referenceData),'utf-8'))\n",
    "\n",
    "reference = cs.Reference(\"TestPayload1\",cs.ReferenceType.InMemoryBytes,cs.ReferenceDataType.Json_UTF8,connectionDetails)\n",
    "#use the connection string from 1. CreateEventHub\n",
    "conn_str = \"Endpoint=sb://.servicebus.windows.net/;SharedAccessKeyName=;SharedAccessKey=;EntityPath=\"\n",
    "#partition ids range from 0 to 31\n",
    "partition_id = \"0\"\n",
    "\n",
    "msg_details=cs.MessageDetails(interfaceName,correlationId,version,data,reference,conn_str,partition_id)\n",
    "\n",
    "cs.send_message_v1_4(msg_details)"
   ]
  },
  {
   "cell_type": "markdown",
   "metadata": {},
   "source": [
    "### Construct and send message from local python pickle file"
   ]
  },
  {
   "cell_type": "code",
   "execution_count": null,
   "metadata": {},
   "outputs": [],
   "source": [
    "#create file\n",
    "\n",
    "referenceData = {\"test\":1,\"test1\":2}\n",
    "with open('Test.pkl','wb') as file:\n",
    "    file.write(pickle.dumps(referenceData))\n",
    "\n",
    "interfaceName=\"testInterface2\"\n",
    "correlationId=str(uuid.uuid4())\n",
    "version=\"v0.1\"\n",
    "\n",
    "data={\"TestDetails\":\"LocalFileTest\"}\n",
    "connectionDetails=cs.LocalFileConnectionDetails('Test.pkl')\n",
    "\n",
    "reference = cs.Reference(\"TestPayload2\",cs.ReferenceType.LocalFile,cs.ReferenceDataType.Binary,connectionDetails)\n",
    "#use the connection string from 1. CreateEventHub\n",
    "conn_str = \"Endpoint=sb://.servicebus.windows.net/;SharedAccessKeyName=;SharedAccessKey=;EntityPath=\"\n",
    "#partition ids range from 0 to 31\n",
    "partition_id = \"0\"\n",
    "\n",
    "msg_details=cs.MessageDetails(interfaceName,correlationId,version,data,reference,conn_str,partition_id)\n",
    "\n",
    "cs.send_message_v1_4(msg_details)"
   ]
  },
  {
   "cell_type": "markdown",
   "metadata": {},
   "source": [
    "### Construct and send message from Azure blob"
   ]
  },
  {
   "cell_type": "code",
   "execution_count": null,
   "metadata": {},
   "outputs": [],
   "source": [
    "interfaceName=\"testInterface3\"\n",
    "correlationId=str(uuid.uuid4())\n",
    "version=\"v0.1\"\n",
    "\n",
    "data={\"TestDetails\":\"AzureBlobTest\"}\n",
    "\n",
    "accountName=\"\"\n",
    "sasToken=\"\"\n",
    "containerName=\"\"\n",
    "blobName=\"\"\n",
    "connectionDetails=cs.AzureBlobConnectionDetails(accountName,sasToken,containerName,blobName)\n",
    "\n",
    "reference = cs.Reference(\"TestPayload2\",cs.ReferenceType.AzureBlobStore,cs.ReferenceDataType.Json_UTF8,connectionDetails)\n",
    "#use the connection string from 1. CreateEventHub\n",
    "conn_str = \"Endpoint=sb://.servicebus.windows.net/;SharedAccessKeyName=;SharedAccessKey=;EntityPath=\"\n",
    "#partition ids range from 0 to 31\n",
    "partition_id = \"0\"\n",
    "\n",
    "msg_details=cs.MessageDetails(interfaceName,correlationId,version,data,reference,conn_str,partition_id)\n",
    "\n",
    "cs.send_message_v1_4(msg_details)"
   ]
  }
 ],
 "metadata": {
  "kernelspec": {
   "display_name": "Python 3",
   "language": "python",
   "name": "python3"
  },
  "language_info": {
   "codemirror_mode": {
    "name": "ipython",
    "version": 3
   },
   "file_extension": ".py",
   "mimetype": "text/x-python",
   "name": "python",
   "nbconvert_exporter": "python",
   "pygments_lexer": "ipython3",
   "version": "3.6.4"
  }
 },
 "nbformat": 4,
 "nbformat_minor": 2
}
